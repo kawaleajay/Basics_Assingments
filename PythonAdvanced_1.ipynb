{
 "cells": [
  {
   "cell_type": "markdown",
   "id": "fa48ec2f",
   "metadata": {},
   "source": [
    "# Q1. What is the purpose of Python's OOP?"
   ]
  },
  {
   "cell_type": "markdown",
   "id": "43e2cd82",
   "metadata": {},
   "source": [
    "Object-Oriented Programming makes the program easy to understand as well as efficient.\n",
    "\n",
    "Since the class is sharable, the code can be reused.\n",
    "\n",
    "Data is safe and secure with data abstraction.\n",
    "\n",
    "Polymorphism allows the same interface for different objects, so programmers can write efficient code\n",
    "\n",
    "inherit feature allows programmer to inhetit the methods from existing programs."
   ]
  },
  {
   "cell_type": "markdown",
   "id": "6bdf488a",
   "metadata": {},
   "source": [
    "# Q2. Where does an inheritance search look for an attribute?"
   ]
  },
  {
   "cell_type": "markdown",
   "id": "a87e06e8",
   "metadata": {},
   "source": [
    "The inheritance search happens in bottom up fashion. its starts form object.attr and search all the way up to the parent class to find the find the first occurrence of attribute by looking in object, then in all classes above it, from bottom to top and left to right"
   ]
  },
  {
   "cell_type": "markdown",
   "id": "70029e65",
   "metadata": {},
   "source": [
    "# Q3. How do you distinguish between a class object and an instance object?"
   ]
  },
  {
   "cell_type": "markdown",
   "id": "82d72895",
   "metadata": {},
   "source": [
    "Class Object - when we create a class , a class object is created.The class name itself is class object. we can access class variable using this class name\n",
    "\n",
    "    Exanple  class test:\n",
    "                x = 10\n",
    "                def __init__(self,a,b)\n",
    "                    self.a = a\n",
    "                    self.b = b\n",
    "            print(test.x)\n",
    "\n",
    "using this text.x we can access its class variables.. We can have only one class objects for a class.\n",
    "\n",
    "Instance Object - when we access class with paranthesis like test(), this will creat a instance of a class. we can have n numbers of instance objects for same class."
   ]
  },
  {
   "cell_type": "code",
   "execution_count": 1,
   "id": "b98c1f47",
   "metadata": {},
   "outputs": [
    {
     "name": "stdout",
     "output_type": "stream",
     "text": [
      "10\n"
     ]
    }
   ],
   "source": [
    "## Class object\n",
    "class test:\n",
    "    x = 10\n",
    "    def __init__(self,a,b):\n",
    "        self.a = a\n",
    "        self.b = b\n",
    "print(test.x)"
   ]
  },
  {
   "cell_type": "code",
   "execution_count": 2,
   "id": "5178cb59",
   "metadata": {},
   "outputs": [
    {
     "data": {
      "text/plain": [
       "3"
      ]
     },
     "execution_count": 2,
     "metadata": {},
     "output_type": "execute_result"
    }
   ],
   "source": [
    "## instance object\n",
    "instObj = test(3,4)\n",
    "instObj.a"
   ]
  },
  {
   "cell_type": "markdown",
   "id": "9ae7bc14",
   "metadata": {},
   "source": [
    "# Q4. What makes the first argument in a class’s method function special?"
   ]
  },
  {
   "cell_type": "markdown",
   "id": "df91cdf8",
   "metadata": {},
   "source": [
    "The keyword self represents the instance of a class and binds the attributes with the given arguments"
   ]
  },
  {
   "cell_type": "markdown",
   "id": "5f7d5dab",
   "metadata": {},
   "source": [
    "# Q5. What is the purpose of the __init__ method?"
   ]
  },
  {
   "cell_type": "markdown",
   "id": "e7eec387",
   "metadata": {},
   "source": [
    "__init__ is a reseved method in python classes. This method called when an object is created from the class and it allow the class to initialize the attributes of a class"
   ]
  },
  {
   "cell_type": "markdown",
   "id": "6ea29483",
   "metadata": {},
   "source": [
    "# Q6. What is the process for creating a class instance?"
   ]
  },
  {
   "cell_type": "markdown",
   "id": "4b364fdd",
   "metadata": {},
   "source": [
    "To create instances of a class,\n",
    "\n",
    "Create a class\n",
    "\n",
    "call the class using class name and assign it to a variable (object variable)\n",
    "\n",
    "pass in whatever arguments its init method accepts"
   ]
  },
  {
   "cell_type": "code",
   "execution_count": 4,
   "id": "979fa58e",
   "metadata": {},
   "outputs": [],
   "source": [
    "class Employee:\n",
    "    empCount = 0\n",
    "\n",
    "    def __init__(self, name, salary):\n",
    "        self.name = name\n",
    "        self.salary = salary\n",
    "        Employee.empCount += 1\n",
    "        \n",
    "objClass = Employee('Bhanu','120000')"
   ]
  },
  {
   "cell_type": "markdown",
   "id": "59ec0b5f",
   "metadata": {},
   "source": [
    "# Q7. What is the process for creating a class?"
   ]
  },
  {
   "cell_type": "markdown",
   "id": "3d6f91f3",
   "metadata": {},
   "source": [
    "process to create class\n",
    "\n",
    "class definition starts with keyword class\n",
    "\n",
    "follwed by classname and ':'\n",
    "\n",
    "class will have doc string\n",
    "\n",
    "class should have at least one statements."
   ]
  },
  {
   "cell_type": "code",
   "execution_count": 5,
   "id": "ed43b52b",
   "metadata": {},
   "outputs": [],
   "source": [
    "class MyNewClass:\n",
    "    '''This is a docstring. I have created a new class'''\n",
    "    pass"
   ]
  },
  {
   "cell_type": "markdown",
   "id": "1fa9a7f7",
   "metadata": {},
   "source": [
    "# Q8. How would you define the superclasses of a class?"
   ]
  },
  {
   "cell_type": "markdown",
   "id": "ce9e7f5c",
   "metadata": {},
   "source": [
    "The class from which a class inherits is called the parent or superclass"
   ]
  },
  {
   "cell_type": "code",
   "execution_count": null,
   "id": "63c09bcd",
   "metadata": {},
   "outputs": [],
   "source": []
  }
 ],
 "metadata": {
  "kernelspec": {
   "display_name": "Python 3 (ipykernel)",
   "language": "python",
   "name": "python3"
  },
  "language_info": {
   "codemirror_mode": {
    "name": "ipython",
    "version": 3
   },
   "file_extension": ".py",
   "mimetype": "text/x-python",
   "name": "python",
   "nbconvert_exporter": "python",
   "pygments_lexer": "ipython3",
   "version": "3.9.12"
  }
 },
 "nbformat": 4,
 "nbformat_minor": 5
}
