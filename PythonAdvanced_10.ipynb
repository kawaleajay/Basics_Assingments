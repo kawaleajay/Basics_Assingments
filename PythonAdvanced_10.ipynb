{
 "cells": [
  {
   "cell_type": "markdown",
   "id": "c6337694",
   "metadata": {},
   "source": [
    "# Q1. What is the difference between __getattr__ and __getattribute__?"
   ]
  },
  {
   "cell_type": "markdown",
   "id": "aeb202e7",
   "metadata": {},
   "source": [
    "Python will call getattr method whenever you request an attribute that hasn't already been defined.\n",
    "\n",
    "If you have getattribute method in your class, python invokes this method for every attribute regardless whether it exists or not."
   ]
  },
  {
   "cell_type": "markdown",
   "id": "465e4cdb",
   "metadata": {},
   "source": [
    "# Q2. What is the difference between properties and descriptors?"
   ]
  },
  {
   "cell_type": "markdown",
   "id": "08f2b540",
   "metadata": {},
   "source": [
    "A descriptor is a special kind of class attribute that implements a descriptor protocol.\n",
    "\n",
    "A property is simply a ready-made descriptor type that maps attribute access to getter and setter methods."
   ]
  },
  {
   "cell_type": "markdown",
   "id": "f21c3ff3",
   "metadata": {},
   "source": [
    "# Q3. What are the key differences in functionality between __getattr__ and __getattribute__, as well as\n",
    "properties and descriptors?"
   ]
  },
  {
   "cell_type": "markdown",
   "id": "c489a7d4",
   "metadata": {},
   "source": [
    "Answer: A key difference between getattr and getattribute is that getattr is only invoked if the attribute wasn't found the usual ways. It's good for implementing a fallback for missing attributes and is probably the one of two you want."
   ]
  },
  {
   "cell_type": "code",
   "execution_count": null,
   "id": "9c721a15",
   "metadata": {},
   "outputs": [],
   "source": []
  }
 ],
 "metadata": {
  "kernelspec": {
   "display_name": "Python 3 (ipykernel)",
   "language": "python",
   "name": "python3"
  },
  "language_info": {
   "codemirror_mode": {
    "name": "ipython",
    "version": 3
   },
   "file_extension": ".py",
   "mimetype": "text/x-python",
   "name": "python",
   "nbconvert_exporter": "python",
   "pygments_lexer": "ipython3",
   "version": "3.9.12"
  }
 },
 "nbformat": 4,
 "nbformat_minor": 5
}
