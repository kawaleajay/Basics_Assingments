{
 "cells": [
  {
   "cell_type": "markdown",
   "id": "fac1f042",
   "metadata": {},
   "source": [
    "# Q1. Can you create a programme or function that employs both positive and negative indexing? Is\n",
    "there any repercussion if you do so?"
   ]
  },
  {
   "cell_type": "markdown",
   "id": "931d2948",
   "metadata": {},
   "source": [
    "Answers: Below is a basic program showing positive and negative indexing. NO."
   ]
  },
  {
   "cell_type": "code",
   "execution_count": 1,
   "id": "89dca904",
   "metadata": {},
   "outputs": [
    {
     "name": "stdout",
     "output_type": "stream",
     "text": [
      "a\n",
      "r\n"
     ]
    }
   ],
   "source": [
    "def ajay():\n",
    "\n",
    "  greetings = \"ajay kumar\"\n",
    "  print(greetings[0]) \n",
    "  print(greetings[-1])\n",
    "\n",
    "ajay()"
   ]
  },
  {
   "cell_type": "markdown",
   "id": "ae55da58",
   "metadata": {},
   "source": [
    "# Q2. What is the most effective way of starting with 1,000 elements in a Python list? Assume that all\n",
    "elements should be set to the same value."
   ]
  },
  {
   "cell_type": "markdown",
   "id": "021d62db",
   "metadata": {},
   "source": [
    "Answer: list comprehension and * operator are fastest followed by while and for loop for loop in list."
   ]
  },
  {
   "cell_type": "code",
   "execution_count": 2,
   "id": "2ae7c28e",
   "metadata": {},
   "outputs": [
    {
     "name": "stdout",
     "output_type": "stream",
     "text": [
      "Average time taken by for loop: 0.002572324275970459\n",
      "Average time taken by while loop: 0.004718282222747803\n",
      "Average time taken by list comprehensions: 0.0013134574890136719\n",
      "Average time taken by * operator: 0.0002639341354370117\n"
     ]
    }
   ],
   "source": [
    "# import time module to calculate times\n",
    "import time\n",
    "forLoopTime = []\n",
    "whileLoopTime = []\n",
    "listComprehensionTime = []\n",
    "starOperatorTime = []\n",
    "# repeat the process for 500 times and calculate average of times taken.\n",
    "for k in range(500):\n",
    "\t# start time\n",
    "\tstart = time.time()\n",
    "\t# declare empty list\n",
    "\ta = []\n",
    "\t# run a for loop for 10000 times\n",
    "\tfor i in range(10000):\n",
    "\t\ta.append(0)\n",
    "\t# stop time\n",
    "\tstop = time.time()\n",
    "\tforLoopTime.append(stop-start)\n",
    "\t# start time\n",
    "\tstart = time.time()\n",
    "\t# declare an empty list\n",
    "\ta = []\n",
    "\ti = 0\n",
    "\t# run a for loop 10000 times\n",
    "\twhile(i<10000):\n",
    "\t\ta.append(0)\n",
    "\t\ti+= 1\n",
    "\tstop = time.time()\n",
    "\twhileLoopTime.append(stop-start)\n",
    "\n",
    "\tstart = time.time()\n",
    "\t# list comprehension to initialize list\n",
    "\ta = [0 for i in range(10000)]\n",
    "\tstop = time.time()\n",
    "\tlistComprehensionTime.append(stop-start)\n",
    "\n",
    "\tstart = time.time()\n",
    "\t# using the * operator\n",
    "\ta = [0]*10000\n",
    "\tstop = time.time()\n",
    "\tstarOperatorTime.append(stop-start)\n",
    "\n",
    "print(\"Average time taken by for loop: \" + str(sum(forLoopTime)/100))\n",
    "print(\"Average time taken by while loop: \" + str(sum(whileLoopTime)/100))\n",
    "print(\"Average time taken by list comprehensions: \" + str(sum(listComprehensionTime)/100))#runnerup\n",
    "print(\"Average time taken by * operator: \" + str(sum(starOperatorTime)/100))\t#fastest"
   ]
  },
  {
   "cell_type": "markdown",
   "id": "3f1b124b",
   "metadata": {},
   "source": [
    "# Q3. How do you slice a list to get any other part while missing the rest? (For example, suppose you\n",
    "want to make a new list with the elements first, third, fifth, seventh, and so on.)"
   ]
  },
  {
   "cell_type": "code",
   "execution_count": 3,
   "id": "ca008788",
   "metadata": {},
   "outputs": [
    {
     "name": "stdout",
     "output_type": "stream",
     "text": [
      "[1, 3, 5, 7, 9, 11]\n"
     ]
    }
   ],
   "source": [
    "b = [1,2,3,4,5,6,7,8,9,10,11,12]\n",
    "print(b[::2])"
   ]
  },
  {
   "cell_type": "markdown",
   "id": "0f9b8b0b",
   "metadata": {},
   "source": [
    "# Q4. Explain the distinctions between indexing and slicing."
   ]
  },
  {
   "cell_type": "markdown",
   "id": "4caafc4e",
   "metadata": {},
   "source": [
    "Answer: “Indexing” means referring to an element of an iterable by its position within the iterable. “Slicing” means getting a subset of elements from an iterable based on their indices."
   ]
  },
  {
   "cell_type": "markdown",
   "id": "84fd0f1d",
   "metadata": {},
   "source": [
    "# Q5. What happens if one of the slicing expression's indexes is out of range?"
   ]
  },
  {
   "cell_type": "markdown",
   "id": "e3a69a7a",
   "metadata": {},
   "source": [
    "Answer: empty list comes"
   ]
  },
  {
   "cell_type": "code",
   "execution_count": 4,
   "id": "6ab04d71",
   "metadata": {},
   "outputs": [
    {
     "name": "stdout",
     "output_type": "stream",
     "text": [
      "[]\n"
     ]
    }
   ],
   "source": [
    "b = [1,2,3,4,5,6,7,8,9,10,11,12]\n",
    "print(b[34:44:1])"
   ]
  },
  {
   "cell_type": "markdown",
   "id": "8acde7bf",
   "metadata": {},
   "source": [
    "# Q6. If you pass a list to a function, and if you want the function to be able to change the values of the\n",
    "list—so that the list is different after the function returns—what action should you avoid?"
   ]
  },
  {
   "cell_type": "markdown",
   "id": "3c8b7fe4",
   "metadata": {},
   "source": [
    "Answer: the list will change list are mutable but we can also prevent that by creating a deepcopy of it before."
   ]
  },
  {
   "cell_type": "markdown",
   "id": "c50b3745",
   "metadata": {},
   "source": [
    "# Q7. What is the concept of an unbalanced matrix?"
   ]
  },
  {
   "cell_type": "markdown",
   "id": "4779477c",
   "metadata": {},
   "source": [
    "Answer: A matrix is balanced if all cells in the matrix are balanced and a cell of the matrix is balanced if the number of cells in that matrix that are adjacent to that cell is strictly greater than the value written in this cell. .\n",
    "\n",
    "Input: N = 3, M = 3\n",
    "\n",
    "mat[][] = {{1, 2, 3},\n",
    "\n",
    "{4, 5, 6},\n",
    "\n",
    "{7, 8, 9}}\n",
    "\n",
    "Output: Unbalanced\n",
    "\n",
    "Explanation: Each cell of the given grid is not stable, so the overall grid is unbalanced."
   ]
  },
  {
   "cell_type": "markdown",
   "id": "493e45a6",
   "metadata": {},
   "source": [
    "# Q8. Why is it necessary to use either list comprehension or a loop to create arbitrarily large matrices?"
   ]
  },
  {
   "cell_type": "markdown",
   "id": "5ed5578e",
   "metadata": {},
   "source": [
    "nswer: list comprehension or a loop specifically list comprehension can simplify our code, but if you put too much logic inside, they will instead become harder to read and understand. loop specifically are also fast as we have seen in previous questions using time."
   ]
  },
  {
   "cell_type": "code",
   "execution_count": null,
   "id": "2f6e1095",
   "metadata": {},
   "outputs": [],
   "source": []
  }
 ],
 "metadata": {
  "kernelspec": {
   "display_name": "Python 3 (ipykernel)",
   "language": "python",
   "name": "python3"
  },
  "language_info": {
   "codemirror_mode": {
    "name": "ipython",
    "version": 3
   },
   "file_extension": ".py",
   "mimetype": "text/x-python",
   "name": "python",
   "nbconvert_exporter": "python",
   "pygments_lexer": "ipython3",
   "version": "3.9.12"
  }
 },
 "nbformat": 4,
 "nbformat_minor": 5
}
